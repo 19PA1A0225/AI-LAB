{
  "nbformat": 4,
  "nbformat_minor": 0,
  "metadata": {
    "colab": {
      "name": "EXPERIMENT-1_NUMPY",
      "provenance": [],
      "collapsed_sections": [],
      "authorship_tag": "ABX9TyMB1C7lncebj5uNLoJpVni9",
      "include_colab_link": true
    },
    "kernelspec": {
      "name": "python3",
      "display_name": "Python 3"
    }
  },
  "cells": [
    {
      "cell_type": "markdown",
      "metadata": {
        "id": "view-in-github",
        "colab_type": "text"
      },
      "source": [
        "<a href=\"https://colab.research.google.com/github/19PA1A0225/AI-LAB/blob/master/EXPERIMENT_1_NUMPY.ipynb\" target=\"_parent\"><img src=\"https://colab.research.google.com/assets/colab-badge.svg\" alt=\"Open In Colab\"/></a>"
      ]
    },
    {
      "cell_type": "markdown",
      "metadata": {
        "id": "RXZ45rzoCnTf",
        "colab_type": "text"
      },
      "source": [
        "##1-Different ways to create Numpy arrays"
      ]
    },
    {
      "cell_type": "code",
      "metadata": {
        "id": "QERlGOgKCyc5",
        "colab_type": "code",
        "colab": {
          "base_uri": "https://localhost:8080/",
          "height": 35
        },
        "outputId": "6eeedf37-212b-486e-d864-b657ac34b93c"
      },
      "source": [
        "import numpy as np\n",
        "a = np.array([1,2,3])\n",
        "print (a)"
      ],
      "execution_count": null,
      "outputs": [
        {
          "output_type": "stream",
          "text": [
            "[1 2 3]\n"
          ],
          "name": "stdout"
        }
      ]
    },
    {
      "cell_type": "code",
      "metadata": {
        "id": "Fv1utMe5DC5W",
        "colab_type": "code",
        "colab": {
          "base_uri": "https://localhost:8080/",
          "height": 52
        },
        "outputId": "6c58ed6e-ed78-4bc1-c39c-428d581e7d90"
      },
      "source": [
        "a = np.array([[4,5], [6,7]])\n",
        "print (a)"
      ],
      "execution_count": null,
      "outputs": [
        {
          "output_type": "stream",
          "text": [
            "[[4 5]\n",
            " [6 7]]\n"
          ],
          "name": "stdout"
        }
      ]
    },
    {
      "cell_type": "markdown",
      "metadata": {
        "id": "EEDlsT61DWQE",
        "colab_type": "text"
      },
      "source": [
        "#2-Add,remove,modify elements in an array"
      ]
    },
    {
      "cell_type": "markdown",
      "metadata": {
        "id": "6_IOHE1dDdTj",
        "colab_type": "text"
      },
      "source": [
        "###1-Numpy.arange"
      ]
    },
    {
      "cell_type": "code",
      "metadata": {
        "id": "PkZNOH90Dhq2",
        "colab_type": "code",
        "colab": {
          "base_uri": "https://localhost:8080/",
          "height": 35
        },
        "outputId": "5f9e7d26-7a8e-40bc-e551-3cdbe1f2c4ce"
      },
      "source": [
        "import numpy as np\n",
        "np.arange( 10, 50, 5 )"
      ],
      "execution_count": null,
      "outputs": [
        {
          "output_type": "execute_result",
          "data": {
            "text/plain": [
              "array([10, 15, 20, 25, 30, 35, 40, 45])"
            ]
          },
          "metadata": {
            "tags": []
          },
          "execution_count": 15
        }
      ]
    },
    {
      "cell_type": "code",
      "metadata": {
        "id": "H5YAAnAvDs_P",
        "colab_type": "code",
        "colab": {
          "base_uri": "https://localhost:8080/",
          "height": 52
        },
        "outputId": "cda6f541-945b-4a92-e27a-27221b1f374a"
      },
      "source": [
        "a = np.arange(20)\n",
        "a"
      ],
      "execution_count": null,
      "outputs": [
        {
          "output_type": "execute_result",
          "data": {
            "text/plain": [
              "array([ 0,  1,  2,  3,  4,  5,  6,  7,  8,  9, 10, 11, 12, 13, 14, 15, 16,\n",
              "       17, 18, 19])"
            ]
          },
          "metadata": {
            "tags": []
          },
          "execution_count": 22
        }
      ]
    },
    {
      "cell_type": "markdown",
      "metadata": {
        "id": "2sSYBIJnEKto",
        "colab_type": "text"
      },
      "source": [
        "###2-numpy.reshape"
      ]
    },
    {
      "cell_type": "code",
      "metadata": {
        "id": "Ml0C67ZAEOAp",
        "colab_type": "code",
        "colab": {
          "base_uri": "https://localhost:8080/",
          "height": 87
        },
        "outputId": "3bc5a423-fdb0-4234-fd4c-875b2bd4460e"
      },
      "source": [
        "a = np.arange(20).reshape(4, 5)\n",
        "a"
      ],
      "execution_count": null,
      "outputs": [
        {
          "output_type": "execute_result",
          "data": {
            "text/plain": [
              "array([[ 0,  1,  2,  3,  4],\n",
              "       [ 5,  6,  7,  8,  9],\n",
              "       [10, 11, 12, 13, 14],\n",
              "       [15, 16, 17, 18, 19]])"
            ]
          },
          "metadata": {
            "tags": []
          },
          "execution_count": 23
        }
      ]
    },
    {
      "cell_type": "markdown",
      "metadata": {
        "id": "0OAmyWM7EYBK",
        "colab_type": "text"
      },
      "source": [
        "###3-ndarray.shape"
      ]
    },
    {
      "cell_type": "code",
      "metadata": {
        "id": "3iUPCactEePh",
        "colab_type": "code",
        "colab": {
          "base_uri": "https://localhost:8080/",
          "height": 35
        },
        "outputId": "f0a3ac67-e5ce-4823-f935-30c00f261189"
      },
      "source": [
        "a.shape"
      ],
      "execution_count": null,
      "outputs": [
        {
          "output_type": "execute_result",
          "data": {
            "text/plain": [
              "(4, 5)"
            ]
          },
          "metadata": {
            "tags": []
          },
          "execution_count": 24
        }
      ]
    },
    {
      "cell_type": "markdown",
      "metadata": {
        "id": "A2GrDHEmEhG8",
        "colab_type": "text"
      },
      "source": [
        "###4-ndarray.ndim"
      ]
    },
    {
      "cell_type": "code",
      "metadata": {
        "id": "XJ8kRyNQElld",
        "colab_type": "code",
        "colab": {
          "base_uri": "https://localhost:8080/",
          "height": 35
        },
        "outputId": "0d8694ed-a21f-454c-a6b5-d6459fa70f7c"
      },
      "source": [
        "a.ndim"
      ],
      "execution_count": null,
      "outputs": [
        {
          "output_type": "execute_result",
          "data": {
            "text/plain": [
              "2"
            ]
          },
          "metadata": {
            "tags": []
          },
          "execution_count": 25
        }
      ]
    },
    {
      "cell_type": "markdown",
      "metadata": {
        "id": "pWSVe31uEqgQ",
        "colab_type": "text"
      },
      "source": [
        "###5-ndarray.dtype"
      ]
    },
    {
      "cell_type": "code",
      "metadata": {
        "id": "ng1H-64XEu0o",
        "colab_type": "code",
        "colab": {
          "base_uri": "https://localhost:8080/",
          "height": 35
        },
        "outputId": "e3787601-c168-4f84-9bfb-ebaec2704ebe"
      },
      "source": [
        "a.dtype"
      ],
      "execution_count": null,
      "outputs": [
        {
          "output_type": "execute_result",
          "data": {
            "text/plain": [
              "dtype('int64')"
            ]
          },
          "metadata": {
            "tags": []
          },
          "execution_count": 26
        }
      ]
    },
    {
      "cell_type": "markdown",
      "metadata": {
        "id": "GlO48JhFEx03",
        "colab_type": "text"
      },
      "source": [
        "###6-ndarray.itemsize"
      ]
    },
    {
      "cell_type": "code",
      "metadata": {
        "id": "Fxj8tzpSE4Bq",
        "colab_type": "code",
        "colab": {
          "base_uri": "https://localhost:8080/",
          "height": 35
        },
        "outputId": "1d190862-ec47-4f7b-9e7a-f3cb4930c947"
      },
      "source": [
        "a.size"
      ],
      "execution_count": null,
      "outputs": [
        {
          "output_type": "execute_result",
          "data": {
            "text/plain": [
              "20"
            ]
          },
          "metadata": {
            "tags": []
          },
          "execution_count": 27
        }
      ]
    },
    {
      "cell_type": "markdown",
      "metadata": {
        "id": "s_X8aqBdE8B9",
        "colab_type": "text"
      },
      "source": [
        "###7-type(ndarray)"
      ]
    },
    {
      "cell_type": "code",
      "metadata": {
        "id": "A8ZkL2MqFAzI",
        "colab_type": "code",
        "colab": {
          "base_uri": "https://localhost:8080/",
          "height": 35
        },
        "outputId": "d2ee921d-a92a-4730-be78-2bc4e995b5fb"
      },
      "source": [
        "type(a)"
      ],
      "execution_count": null,
      "outputs": [
        {
          "output_type": "execute_result",
          "data": {
            "text/plain": [
              "numpy.ndarray"
            ]
          },
          "metadata": {
            "tags": []
          },
          "execution_count": 28
        }
      ]
    },
    {
      "cell_type": "markdown",
      "metadata": {
        "id": "af30aAxXHfvw",
        "colab_type": "text"
      },
      "source": [
        "###3-Arithmetic operations on Numpy array"
      ]
    },
    {
      "cell_type": "markdown",
      "metadata": {
        "id": "BjruEzRuHryy",
        "colab_type": "text"
      },
      "source": [
        "###1-Arithmetic operations on arrays apply elementwise.A new array is created and filled with the result"
      ]
    },
    {
      "cell_type": "code",
      "metadata": {
        "id": "1cxXlQRLICah",
        "colab_type": "code",
        "colab": {
          "base_uri": "https://localhost:8080/",
          "height": 139
        },
        "outputId": "032d02a4-8588-4de5-c805-3bc1c5a99f80"
      },
      "source": [
        "a = np.array( [10,20,30,40] )\n",
        "b = np.arange( 4 )\n",
        "print(a)\n",
        "print(b)\n",
        "c = a-b\n",
        "print(c)\n",
        "print(b**2)\n",
        "print(10*np.sin(a))\n",
        "print(a<35)\n",
        "a[0] +=10\n",
        "print(a)"
      ],
      "execution_count": null,
      "outputs": [
        {
          "output_type": "stream",
          "text": [
            "[10 20 30 40]\n",
            "[0 1 2 3]\n",
            "[10 19 28 37]\n",
            "[0 1 4 9]\n",
            "[-5.44021111  9.12945251 -9.88031624  7.4511316 ]\n",
            "[ True  True  True False]\n",
            "[20 20 30 40]\n"
          ],
          "name": "stdout"
        }
      ]
    },
    {
      "cell_type": "markdown",
      "metadata": {
        "id": "b0fbkMKGI3Bg",
        "colab_type": "text"
      },
      "source": [
        "##2-Dot method\n"
      ]
    },
    {
      "cell_type": "code",
      "metadata": {
        "id": "MZyTbYoLI-EH",
        "colab_type": "code",
        "colab": {
          "base_uri": "https://localhost:8080/",
          "height": 225
        },
        "outputId": "d7bcc164-312f-447c-e46a-7d08f5400dbb"
      },
      "source": [
        "A = np.array( [[3,3],[0,2]] )\n",
        "B = np.array( [[3,0],[2,2]] )\n",
        "print(A)\n",
        "print(B)\n",
        "print(A * B)\n",
        "print(A @ B)\n",
        "print(A.dot(B))\n",
        "print(np.dot(A,B))"
      ],
      "execution_count": null,
      "outputs": [
        {
          "output_type": "stream",
          "text": [
            "[[3 3]\n",
            " [0 2]]\n",
            "[[3 0]\n",
            " [2 2]]\n",
            "[[9 0]\n",
            " [0 4]]\n",
            "[[15  6]\n",
            " [ 4  4]]\n",
            "[[15  6]\n",
            " [ 4  4]]\n",
            "[[15  6]\n",
            " [ 4  4]]\n"
          ],
          "name": "stdout"
        }
      ]
    },
    {
      "cell_type": "markdown",
      "metadata": {
        "id": "dJfz-ZYCLlHN",
        "colab_type": "text"
      },
      "source": [
        "##3-Basic mathematical functions"
      ]
    },
    {
      "cell_type": "code",
      "metadata": {
        "id": "ltt23TToLsb6",
        "colab_type": "code",
        "colab": {
          "base_uri": "https://localhost:8080/",
          "height": 191
        },
        "outputId": "a3399a82-0c61-41de-fc51-fcada3125938"
      },
      "source": [
        "a=np.arange(4)\n",
        "print(a)\n",
        "b=np.random.random(4)\n",
        "print(b)\n",
        "print(np.add(a,b))\n",
        "print(a + b)\n",
        "print(a - b)\n",
        "print(np.subtract(a, b))\n",
        "print(a * b)\n",
        "print(np.multiply(a, b))\n",
        "print(a/b)\n",
        "print(np.divide(a, b))"
      ],
      "execution_count": null,
      "outputs": [
        {
          "output_type": "stream",
          "text": [
            "[0 1 2 3]\n",
            "[0.03305505 0.47124831 0.71577164 0.3986514 ]\n",
            "[0.03305505 1.47124831 2.71577164 3.3986514 ]\n",
            "[0.03305505 1.47124831 2.71577164 3.3986514 ]\n",
            "[-0.03305505  0.52875169  1.28422836  2.6013486 ]\n",
            "[-0.03305505  0.52875169  1.28422836  2.6013486 ]\n",
            "[0.         0.47124831 1.43154327 1.19595421]\n",
            "[0.         0.47124831 1.43154327 1.19595421]\n",
            "[0.         2.12202354 2.79418728 7.52537175]\n",
            "[0.         2.12202354 2.79418728 7.52537175]\n"
          ],
          "name": "stdout"
        }
      ]
    },
    {
      "cell_type": "markdown",
      "metadata": {
        "id": "MHvqMqhYMlsl",
        "colab_type": "text"
      },
      "source": [
        "##4-Slicing and iterating of Numpy arrays"
      ]
    },
    {
      "cell_type": "markdown",
      "metadata": {
        "id": "2sWDMzAyMwA7",
        "colab_type": "text"
      },
      "source": [
        "###1-Slicing-access list of elements"
      ]
    },
    {
      "cell_type": "code",
      "metadata": {
        "id": "TjJIIazKM-NP",
        "colab_type": "code",
        "colab": {
          "base_uri": "https://localhost:8080/",
          "height": 87
        },
        "outputId": "809b2e03-7b76-413f-dd79-50a18338e629"
      },
      "source": [
        "a=np.arange(12)**3\n",
        "print(a)\n",
        "print(a[2])\n",
        "print(a[2:3])\n",
        "print(a[2:4])"
      ],
      "execution_count": null,
      "outputs": [
        {
          "output_type": "stream",
          "text": [
            "[   0    1    8   27   64  125  216  343  512  729 1000 1331]\n",
            "8\n",
            "[8]\n",
            "[ 8 27]\n"
          ],
          "name": "stdout"
        }
      ]
    },
    {
      "cell_type": "markdown",
      "metadata": {
        "id": "J7tpoRVxNhWK",
        "colab_type": "text"
      },
      "source": [
        "###slicing 2-D array"
      ]
    },
    {
      "cell_type": "code",
      "metadata": {
        "id": "GtHQtT41Nmow",
        "colab_type": "code",
        "colab": {
          "base_uri": "https://localhost:8080/",
          "height": 329
        },
        "outputId": "7ceb5ddc-a420-4114-eab5-e3bc461685f4"
      },
      "source": [
        "a=np.arange(12).reshape(4,3)**2\n",
        "print(a)\n",
        "print(a[1:3])\n",
        "print(a[1:3,1:2])\n",
        "print(a[2,])\n",
        "print(a[:2],)\n",
        "print(a[:3,])\n",
        "print(a[:3,:2])\n",
        "print(a[:,2])\n"
      ],
      "execution_count": null,
      "outputs": [
        {
          "output_type": "stream",
          "text": [
            "[[  0   1   4]\n",
            " [  9  16  25]\n",
            " [ 36  49  64]\n",
            " [ 81 100 121]]\n",
            "[[ 9 16 25]\n",
            " [36 49 64]]\n",
            "[[16]\n",
            " [49]]\n",
            "[36 49 64]\n",
            "[[ 0  1  4]\n",
            " [ 9 16 25]]\n",
            "[[ 0  1  4]\n",
            " [ 9 16 25]\n",
            " [36 49 64]]\n",
            "[[ 0  1]\n",
            " [ 9 16]\n",
            " [36 49]]\n",
            "[  4  25  64 121]\n"
          ],
          "name": "stdout"
        }
      ]
    },
    {
      "cell_type": "markdown",
      "metadata": {
        "id": "OYggzgJNQAII",
        "colab_type": "text"
      },
      "source": [
        "###2-Iterating"
      ]
    },
    {
      "cell_type": "code",
      "metadata": {
        "id": "NifpZzfjQH8i",
        "colab_type": "code",
        "colab": {
          "base_uri": "https://localhost:8080/",
          "height": 191
        },
        "outputId": "6b8b3932-7f4f-49ad-c124-13bda73475ab"
      },
      "source": [
        "a=np.arange(10).reshape(5,2)**2\n",
        "print(a)\n",
        "for i in a:\n",
        "  print(i)\n",
        "  "
      ],
      "execution_count": null,
      "outputs": [
        {
          "output_type": "stream",
          "text": [
            "[[ 0  1]\n",
            " [ 4  9]\n",
            " [16 25]\n",
            " [36 49]\n",
            " [64 81]]\n",
            "[0 1]\n",
            "[4 9]\n",
            "[16 25]\n",
            "[36 49]\n",
            "[64 81]\n"
          ],
          "name": "stdout"
        }
      ]
    },
    {
      "cell_type": "code",
      "metadata": {
        "id": "IfJVUmk3QjVm",
        "colab_type": "code",
        "colab": {
          "base_uri": "https://localhost:8080/",
          "height": 191
        },
        "outputId": "60f82901-99ed-4a65-aadc-0bb2db77156d"
      },
      "source": [
        "for i in a.flat:\n",
        "  print(i)"
      ],
      "execution_count": null,
      "outputs": [
        {
          "output_type": "stream",
          "text": [
            "0\n",
            "1\n",
            "4\n",
            "9\n",
            "16\n",
            "25\n",
            "36\n",
            "49\n",
            "64\n",
            "81\n"
          ],
          "name": "stdout"
        }
      ]
    },
    {
      "cell_type": "markdown",
      "metadata": {
        "id": "XYPH230fQseZ",
        "colab_type": "text"
      },
      "source": [
        "##5-Matrix operations on Numpy arrays"
      ]
    },
    {
      "cell_type": "markdown",
      "metadata": {
        "id": "ihiPg_dNQ1vr",
        "colab_type": "text"
      },
      "source": [
        "###1-Difference between resize and reshape"
      ]
    },
    {
      "cell_type": "code",
      "metadata": {
        "id": "S9Xwp8JBQ9O5",
        "colab_type": "code",
        "colab": {
          "base_uri": "https://localhost:8080/",
          "height": 69
        },
        "outputId": "9b6e8e34-8065-4212-fb24-72ff1c2922c0"
      },
      "source": [
        "a=np.floor(10*np.random.random((3,4)))\n",
        "a"
      ],
      "execution_count": null,
      "outputs": [
        {
          "output_type": "execute_result",
          "data": {
            "text/plain": [
              "array([[1., 6., 1., 4.],\n",
              "       [8., 1., 2., 3.],\n",
              "       [7., 9., 9., 1.]])"
            ]
          },
          "metadata": {
            "tags": []
          },
          "execution_count": 59
        }
      ]
    },
    {
      "cell_type": "code",
      "metadata": {
        "id": "bBRqs2BWQguk",
        "colab_type": "code",
        "colab": {
          "base_uri": "https://localhost:8080/",
          "height": 52
        },
        "outputId": "f423fde5-c9bf-4699-d4d2-7942547760fd"
      },
      "source": [
        "a.reshape(2,6)"
      ],
      "execution_count": null,
      "outputs": [
        {
          "output_type": "execute_result",
          "data": {
            "text/plain": [
              "array([[1., 6., 1., 4., 8., 1.],\n",
              "       [2., 3., 7., 9., 9., 1.]])"
            ]
          },
          "metadata": {
            "tags": []
          },
          "execution_count": 60
        }
      ]
    },
    {
      "cell_type": "code",
      "metadata": {
        "id": "p9_u0UCrSUoG",
        "colab_type": "code",
        "colab": {
          "base_uri": "https://localhost:8080/",
          "height": 69
        },
        "outputId": "5482be34-f7a4-4b29-e18f-f7003092d2d8"
      },
      "source": [
        "a"
      ],
      "execution_count": null,
      "outputs": [
        {
          "output_type": "execute_result",
          "data": {
            "text/plain": [
              "array([[1., 6., 1., 4.],\n",
              "       [8., 1., 2., 3.],\n",
              "       [7., 9., 9., 1.]])"
            ]
          },
          "metadata": {
            "tags": []
          },
          "execution_count": 61
        }
      ]
    },
    {
      "cell_type": "code",
      "metadata": {
        "id": "TOMrU72-SX4h",
        "colab_type": "code",
        "colab": {
          "base_uri": "https://localhost:8080/",
          "height": 52
        },
        "outputId": "ba7ecb12-ff15-49d0-a58a-322d8a394c9b"
      },
      "source": [
        "a.resize(2,6)\n",
        "a"
      ],
      "execution_count": null,
      "outputs": [
        {
          "output_type": "execute_result",
          "data": {
            "text/plain": [
              "array([[1., 6., 1., 4., 8., 1.],\n",
              "       [2., 3., 7., 9., 9., 1.]])"
            ]
          },
          "metadata": {
            "tags": []
          },
          "execution_count": 63
        }
      ]
    },
    {
      "cell_type": "markdown",
      "metadata": {
        "id": "85lri5__SiKb",
        "colab_type": "text"
      },
      "source": [
        "###2-function transpose of matrix"
      ]
    },
    {
      "cell_type": "code",
      "metadata": {
        "id": "Lm5GmCrxSsGZ",
        "colab_type": "code",
        "colab": {
          "base_uri": "https://localhost:8080/",
          "height": 121
        },
        "outputId": "52b98f2b-065e-4968-c764-5204875b27ee"
      },
      "source": [
        "a.T"
      ],
      "execution_count": null,
      "outputs": [
        {
          "output_type": "execute_result",
          "data": {
            "text/plain": [
              "array([[1., 2.],\n",
              "       [6., 3.],\n",
              "       [1., 7.],\n",
              "       [4., 9.],\n",
              "       [8., 9.],\n",
              "       [1., 1.]])"
            ]
          },
          "metadata": {
            "tags": []
          },
          "execution_count": 64
        }
      ]
    }
  ]
}